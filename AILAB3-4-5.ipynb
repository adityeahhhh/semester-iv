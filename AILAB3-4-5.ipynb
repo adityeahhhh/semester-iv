{
 "cells": [
  {
   "cell_type": "code",
   "execution_count": 2,
   "id": "e11f2ad5",
   "metadata": {},
   "outputs": [],
   "source": [
    "class Graph:\n",
    "    def __init__(self,vertno,vertlist):\n",
    "        self.vertno=vertno\n",
    "        self.vertlist=vertlist\n",
    "        self.adjlist=[[] for _ in vertlist]\n",
    "        self.edges={}\n",
    "    \n",
    "    def addedge(self,src,dest,cost=1):\n",
    "        self.edges[(src,dest)]=cost\n",
    "        self.adjlist[src].append(dest)\n",
    "        \n",
    "    def dfs(self,node,visited=[]):\n",
    "        if node not in visited:\n",
    "            visited.append(node)\n",
    "            for adj in self.adjlist[node]:\n",
    "                self.dfs(adj,visited)\n",
    "        return visited\n",
    "    \n",
    "    def bfs(self,node):\n",
    "        queue=[node]\n",
    "        visited=set()\n",
    "        while queue:\n",
    "            node=queue.pop(0)\n",
    "            visited.add(node)\n",
    "            \n",
    "            for adj in self.adjlist[node]:\n",
    "                if adj not in visited:\n",
    "                    queue.append(adj)\n",
    "        return visited\n",
    "    \n",
    "    def topsortdfs(self,node,visited,result):\n",
    "        visited.add(node)\n",
    "        for x in self.adjlist[node]:\n",
    "            if x not in visited:\n",
    "                self.topsortdfs(x,visited,result)\n",
    "        result.append(node)\n",
    "    \n",
    "    def dotopsortdfs(self):\n",
    "        visited=set()\n",
    "        result=[]\n",
    "        for node in range(self.vertno):\n",
    "            if node not in visited:\n",
    "                self.topsortdfs(node,visited,result)\n",
    "        result.reverse()\n",
    "        print(\"Topological sort: \")\n",
    "        for i in result:\n",
    "            print(g.vertlist[i],end=\" \")\n",
    "    \n",
    "    def topsortbfs(self):\n",
    "        indegree=[0]*self.vertno\n",
    "        for src, dest in self.edges.keys():\n",
    "            indegree[dest] += 1\n",
    "        \n",
    "        queue=[]\n",
    "        visited=[]\n",
    "        for x in range(self.vertno):\n",
    "            if indegree[x]==0:\n",
    "                queue.append(x)\n",
    "        while queue:\n",
    "            node = queue.pop(0)\n",
    "            visited.append(node)\n",
    "        \n",
    "            for adj in self.adjlist[node]:\n",
    "                indegree[adj] -= 1\n",
    "                if indegree[adj] == 0:\n",
    "                    queue.append(adj)\n",
    "        return visited\n",
    "    \n",
    "    def ucs(self,start,goal):\n",
    "        queue=[(start,[],0)]\n",
    "        visited=set()\n",
    "        while queue:\n",
    "            node,path,cost=queue.pop(0)\n",
    "            if node not in visited:\n",
    "                visited.add(node)\n",
    "                path=path+[node]\n",
    "                \n",
    "                if node==goal:\n",
    "                    return path,cost\n",
    "                \n",
    "                for adj in self.adjlist[node]:\n",
    "                    adjcost=self.edges[(node,adj)]\n",
    "                    if adj not in visited:\n",
    "                        queue.append((adj,path,cost+adjcost))\n",
    "                        queue.sort()\n",
    "        return -1,-1\n",
    "            \n",
    "            \n",
    "\n",
    "        "
   ]
  },
  {
   "cell_type": "code",
   "execution_count": 3,
   "id": "dd644fcb",
   "metadata": {},
   "outputs": [
    {
     "name": "stdout",
     "output_type": "stream",
     "text": [
      "A B C D E "
     ]
    }
   ],
   "source": [
    "g=Graph(5,['A','B','C','D','E'])\n",
    "g.addedge(0,1)\n",
    "g.addedge(2,4)\n",
    "g.addedge(0,2)\n",
    "g.addedge(1,3)\n",
    "for i in g.bfs(0):\n",
    "    print(g.vertlist[i],end=\" \")"
   ]
  },
  {
   "cell_type": "code",
   "execution_count": 125,
   "id": "97487fb0",
   "metadata": {},
   "outputs": [
    {
     "name": "stdout",
     "output_type": "stream",
     "text": [
      "Topological sort: \n",
      "A C E B D "
     ]
    }
   ],
   "source": [
    "g.dotopsortdfs()"
   ]
  },
  {
   "cell_type": "code",
   "execution_count": 126,
   "id": "4125283f",
   "metadata": {},
   "outputs": [
    {
     "name": "stdout",
     "output_type": "stream",
     "text": [
      "A B C D E "
     ]
    }
   ],
   "source": [
    "for i in g.topsortbfs():\n",
    "    print(g.vertlist[i],end=\" \")"
   ]
  },
  {
   "cell_type": "code",
   "execution_count": 134,
   "id": "62790663",
   "metadata": {},
   "outputs": [
    {
     "name": "stdout",
     "output_type": "stream",
     "text": [
      "A B D Cost:  2\n"
     ]
    }
   ],
   "source": [
    "ans,cost=g.ucs(0,3)\n",
    "for i in ans:\n",
    "    print(g.vertlist[i],end=\" \")\n",
    "print(\"Cost: \",cost)"
   ]
  },
  {
   "cell_type": "code",
   "execution_count": null,
   "id": "e76aac7b",
   "metadata": {},
   "outputs": [],
   "source": []
  }
 ],
 "metadata": {
  "kernelspec": {
   "display_name": "Python 3 (ipykernel)",
   "language": "python",
   "name": "python3"
  },
  "language_info": {
   "codemirror_mode": {
    "name": "ipython",
    "version": 3
   },
   "file_extension": ".py",
   "mimetype": "text/x-python",
   "name": "python",
   "nbconvert_exporter": "python",
   "pygments_lexer": "ipython3",
   "version": "3.11.1"
  }
 },
 "nbformat": 4,
 "nbformat_minor": 5
}
