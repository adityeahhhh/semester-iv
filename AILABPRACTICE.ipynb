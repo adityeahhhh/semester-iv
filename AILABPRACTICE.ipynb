{
 "cells": [
  {
   "cell_type": "code",
   "execution_count": 212,
   "id": "915373ac",
   "metadata": {},
   "outputs": [],
   "source": [
    "class Graph:\n",
    "    def __init__(self,vertno,vertlist,heuristics=[]):\n",
    "        self.vertno=vertno\n",
    "        self.vertlist=vertlist\n",
    "        self.adjlist=[[] for _ in vertlist]\n",
    "        self.edges={}\n",
    "        self.heuristics=heuristics\n",
    "    \n",
    "    def addedge(self,source,dest,cost=1):\n",
    "        self.adjlist[source].append(dest)\n",
    "        self.edges[(source,dest)]=cost\n",
    "        self.adjlist[dest].append(source)\n",
    "        self.edges[(dest,source)]=cost\n",
    "    \n",
    "    def ucs(self,start,goal):\n",
    "        frontier=[(0,start,[])]\n",
    "        explored=set()\n",
    "        while frontier:\n",
    "            cost,node,path=frontier.pop(0)\n",
    "            \n",
    "            if node==goal:\n",
    "                path.append(node)\n",
    "                return path,cost\n",
    "            explored.add(node)\n",
    "            for adj in self.adjlist[node]:\n",
    "                if adj not in explored:\n",
    "                    frontier.append((cost+self.edges[(node,adj)],adj,path+[node]))\n",
    "                    frontier.sort()\n",
    "\n",
    "        return None\n",
    "    \n",
    "    def calcg(self,node,neighbour):\n",
    "        return node[1]+self.edges[(node[0],neighbour)]\n",
    "    \n",
    "    def astar(self,start,goal):\n",
    "        front=[]\n",
    "        explored=set()\n",
    "        parent={}\n",
    "        front.append((start,0,0))\n",
    "        while front:\n",
    "            front.sort(key= lambda x : x[2])\n",
    "            node=front.pop(0)\n",
    "            current=node[0]\n",
    "            explored.add(current)\n",
    "            if current==goal:\n",
    "                path=[current]\n",
    "                while current!=start:\n",
    "                    current=parent[current]\n",
    "                    path.insert(0,current)\n",
    "                return path\n",
    "            for adj in self.adjlist[current]:\n",
    "                if adj not in explored:\n",
    "                    g=self.calcg(node,adj)\n",
    "                    h=self.heuristics[adj]\n",
    "                    f=g+h\n",
    "                    front.append((adj,g,f))\n",
    "                    parent[adj]=current\n",
    "        return None\n",
    "    \n",
    "    def dfs(self,node,path=[]):\n",
    "        if node not in path:\n",
    "            path.append(node)\n",
    "            for adj in self.adjlist[node]:\n",
    "                self.dfs(adj,path)\n",
    "        return path\n",
    "    \n",
    "    def bfs(self, start):\n",
    "        frontier = [start]\n",
    "        explored = set()\n",
    "        explored.add(start)\n",
    "        path=[]\n",
    "        while frontier:\n",
    "            current= frontier.pop(0)\n",
    "            path = path + [current]\n",
    "            for adj in self.adjlist[current]:\n",
    "                if adj not in explored:\n",
    "                    \n",
    "                    frontier.append((adj))\n",
    "                    explored.add(adj)\n",
    "\n",
    "        return path\n",
    "\n",
    "    def tsp(self,start):\n",
    "        front=[(start,0,[start])]\n",
    "        mincost=float('inf')\n",
    "        best=[]\n",
    "        while front:\n",
    "            node,cost,path=front.pop(0)\n",
    "            if len(path)==self.vertno:\n",
    "                if start in self.adjlist[node] and self.edges[(node,start)]!=0:\n",
    "                    path.append(start)\n",
    "                    cost+=self.edges[(node,start)]\n",
    "                    if cost<mincost:\n",
    "                        mincost=cost\n",
    "                        best=path\n",
    "                continue\n",
    "            for adj in self.adjlist[node]:\n",
    "                if adj not in path:\n",
    "                    new=path+[adj]\n",
    "                    newcost=cost+self.edges[(node,adj)]\n",
    "                    front.append((adj,newcost,new))\n",
    "        return best,mincost\n",
    "                \n",
    "\n",
    "        \n",
    "            \n",
    "    "
   ]
  },
  {
   "cell_type": "code",
   "execution_count": 213,
   "id": "4d0623dc",
   "metadata": {},
   "outputs": [
    {
     "name": "stdout",
     "output_type": "stream",
     "text": [
      "[0, 1, 6, 5, 2, 4, 3, 0]\n"
     ]
    }
   ],
   "source": [
    "g=Graph(7,['S',1,2,3,4,5,'G'])\n",
    "g.addedge(0,1,2)\n",
    "g.addedge(0,3,5)\n",
    "g.addedge(1,6,1)\n",
    "g.addedge(2,1,4)\n",
    "g.addedge(3,1,5)\n",
    "g.addedge(3,6,6)\n",
    "g.addedge(3,4,2)\n",
    "g.addedge(4,2,4)\n",
    "g.addedge(4,5,3)\n",
    "g.addedge(5,6,3)\n",
    "g.addedge(5,2,6)\n",
    "g.addedge(6,4,7)\n",
    "path,cost=g.tsp(0)\n",
    "print(path)"
   ]
  },
  {
   "cell_type": "code",
   "execution_count": 198,
   "id": "8b5c668a",
   "metadata": {},
   "outputs": [
    {
     "name": "stdout",
     "output_type": "stream",
     "text": [
      "Path:  ['S', 1, 'G']\n",
      "Cost:  3\n"
     ]
    }
   ],
   "source": [
    "path,cost=g.ucs(0,6)\n",
    "fpath=[]\n",
    "for x in path:\n",
    "    fpath.append(g.vertlist[x])\n",
    "print(\"Path: \",fpath)\n",
    "print(\"Cost: \",cost)"
   ]
  },
  {
   "cell_type": "code",
   "execution_count": 199,
   "id": "4eed5d5d",
   "metadata": {},
   "outputs": [
    {
     "name": "stdout",
     "output_type": "stream",
     "text": [
      "A B E C G D "
     ]
    }
   ],
   "source": [
    "g1=Graph(6,['A','B','C','D','E','G'],[11,6,99,1,7,0])\n",
    "g1.addedge(0,1,2)\n",
    "g1.addedge(0,4,3)\n",
    "g1.addedge(1,2,1)\n",
    "g1.addedge(1,5,9)\n",
    "g1.addedge(4,3,6)\n",
    "g1.addedge(3,5,1)\n",
    "path1=g1.bfs(0)\n",
    "for x in path1:\n",
    "    print(g1.vertlist[x],end=' ')"
   ]
  },
  {
   "cell_type": "code",
   "execution_count": 201,
   "id": "fb71153c",
   "metadata": {},
   "outputs": [
    {
     "name": "stdout",
     "output_type": "stream",
     "text": [
      "A F G I J "
     ]
    }
   ],
   "source": [
    "g2=Graph(10,['A','B','C','D','E','F','G','H','I','J'],[10,8,5,7,3,6,5,3,1,0])\n",
    "g2.addedge(0,1,6)\n",
    "g2.addedge(0,5,3)\n",
    "g2.addedge(1,2,3)\n",
    "g2.addedge(1,3,2)\n",
    "g2.addedge(2,3,1)\n",
    "g2.addedge(2,4,5)\n",
    "g2.addedge(3,4,8)\n",
    "g2.addedge(4,8,5)\n",
    "g2.addedge(4,9,5)\n",
    "g2.addedge(5,6,1)\n",
    "g2.addedge(5,7,7)\n",
    "g2.addedge(6,8,3)\n",
    "g2.addedge(7,8,2)\n",
    "g2.addedge(8,9,3)\n",
    "path2=g2.astar(0,9)\n",
    "for x in path2:\n",
    "    print(g2.vertlist[x],end=' ')\n"
   ]
  },
  {
   "cell_type": "code",
   "execution_count": 231,
   "id": "64aaa657",
   "metadata": {},
   "outputs": [],
   "source": [
    "class Jugs:\n",
    "    def __init__(self,c1,c2,g1,g2):\n",
    "        self.c1=c1\n",
    "        self.c2=c2\n",
    "        self.g1=g1\n",
    "        self.g2=g2\n",
    "        self.visited=set()\n",
    "        self.queue=[((0,0),[(0,0)])]\n",
    "        self.visited.add((0,0))\n",
    "    \n",
    "    def addstate(self,state):\n",
    "        self.queue.append(state)\n",
    "        self.visited.add(state[0])\n",
    "    \n",
    "    def isgoalstate(self,state):\n",
    "        return state[0]==self.g1 and state[1]==self.g2\n",
    "    \n",
    "    def generateprods(self,state):\n",
    "        prods=[]\n",
    "        prods.append((self.c1,state[1]))\n",
    "        prods.append((state[0],self.c2))\n",
    "        prods.append((0,state[1]))\n",
    "        prods.append((state[0],0))\n",
    "        pour=min(state[0],self.c2-state[1])\n",
    "        prods.append((state[0]-pour,state[1]+pour))\n",
    "        pour=min(self.c1-state[0],state[1])\n",
    "        prods.append((state[0]+pour,state[1]-pour))\n",
    "        return prods\n",
    "    \n",
    "    def solve(self):\n",
    "        while self.queue:\n",
    "            current,path=self.queue.pop(0)\n",
    "            if self.isgoalstate(current):\n",
    "                return path\n",
    "            prods=self.generateprods(current)\n",
    "            for prod in prods:\n",
    "                if prod not in self.visited:\n",
    "                    self.addstate((prod,path+[prod]))\n",
    "        return None"
   ]
  },
  {
   "cell_type": "code",
   "execution_count": 232,
   "id": "7a59f22b",
   "metadata": {},
   "outputs": [
    {
     "name": "stdout",
     "output_type": "stream",
     "text": [
      "[(0, 0), (0, 3), (3, 0), (3, 3), (4, 2), (0, 2), (2, 0)]\n"
     ]
    }
   ],
   "source": [
    "j=Jugs(4,3,2,0)\n",
    "print(j.solve())"
   ]
  },
  {
   "cell_type": "code",
   "execution_count": null,
   "id": "47aa7f7d",
   "metadata": {},
   "outputs": [],
   "source": []
  }
 ],
 "metadata": {
  "kernelspec": {
   "display_name": "Python 3 (ipykernel)",
   "language": "python",
   "name": "python3"
  },
  "language_info": {
   "codemirror_mode": {
    "name": "ipython",
    "version": 3
   },
   "file_extension": ".py",
   "mimetype": "text/x-python",
   "name": "python",
   "nbconvert_exporter": "python",
   "pygments_lexer": "ipython3",
   "version": "3.11.1"
  }
 },
 "nbformat": 4,
 "nbformat_minor": 5
}
